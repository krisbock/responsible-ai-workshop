{
  "cells": [
    {
      "cell_type": "markdown",
      "metadata": {
        "id": "xSLx_rT6ciPt"
      },
      "source": [
        "# Hands on Counterfit to compromise ML models using adverserial attacks - Hands-on-tutorials\n",
        "\n",
        "There are a lot of different ways to compromise machine learning models using adverserial attacks.\n",
        "Here are few exemples : \n",
        "- Confidence reduction : when we make the model less confident in its predictions\n",
        "- Misclassification : when we make the model no longer able to correctly classify an input\n",
        "- Targeted Misclassification : when we force to model to misclassify an input with a different, but selected, target\n",
        "  \n",
        "In this jupyter notebook we will see how to compromise ML models using Counterfit and performing a misclassification attack on the Fashion MNIST dataset."
      ]
    },
    {
      "cell_type": "markdown",
      "metadata": {
        "id": "bNlqwBFtciP1"
      },
      "source": [
        "## Counterfit\n",
        "\n",
        "Counterfit is a command-line tool that provides a generic automation layer for adversarial AI frameworks such as [Adversarial Robustness Toolbox](https://github.com/Trusted-AI/adversarial-robustness-toolbox) and [Text Attack](https://github.com/QData/TextAttack). This tool will allow us to implement our attack scenario of a simple machine learning model and we will see below how to proceed step by step.\n",
        "\n",
        "Available on this [GitHub repository](https://github.com/Azure/counterfit).\n",
        "\n",
        "## Scenario\n",
        "\n",
        "When planning a machine learning model attack scenario, it is important to consider how much access we have to the model in question. The answer to this question allows us to know what type of attack we will be able to implement.\n",
        "\n",
        "If we don't have access to the structure of the model nor to its parameters, we can carry out a **black-box attack** by observing the answer of the model to different inputs. After some iterations of a black-box attack algorithm we are likely to converge to an input which will be missclassified by the model. On the other hand, if we have access to the model and its parameters, it will be possible to implement a **white-box attack** which is more specific.\n",
        "\n",
        "In our example, we will perform two different attacks using Counterfit:\n",
        "\n",
        "* [HopSkipJump](https://arxiv.org/abs/1904.02144) which is a black-box attack\n",
        "* [Carlini L inf](https://arxiv.org/abs/1608.04644) which is a white-box attack\n",
        "\n",
        "At the end, we will interpret and compare the two results obtained."
      ]
    },
    {
      "cell_type": "markdown",
      "metadata": {
        "id": "7geKlEsZciP3"
      },
      "source": [
        "## First step: create and train our vanilla ML model on Fashion MNIST dataset\n",
        "In the cells below, we will create our ML model trained on the Fashion MNIST dataset. \n",
        "Our model has to be able to correctly cassify any input in one of the 10 total classes.\n",
        "\n",
        "This model will be the one we'll try to compromise using adverserial attacks."
      ]
    },
    {
      "cell_type": "markdown",
      "metadata": {
        "id": "LIS58jtLciP4"
      },
      "source": [
        "**Import packages**"
      ]
    },
    {
      "cell_type": "code",
      "execution_count": null,
      "metadata": {
        "id": "nuidyjeQciP5"
      },
      "outputs": [],
      "source": [
        "# !pip install tensorflow"
      ]
    },
    {
      "cell_type": "code",
      "execution_count": null,
      "metadata": {
        "id": "HseKpgukciP7"
      },
      "outputs": [],
      "source": [
        "import numpy as np\n",
        "from tensorflow import keras\n",
        "from tensorflow.keras import layers\n",
        "import matplotlib.pyplot as plt\n",
        "import matplotlib.image as mpimg"
      ]
    },
    {
      "cell_type": "markdown",
      "metadata": {
        "id": "0qv_zqdDciP8"
      },
      "source": [
        "**Get the dataset and preprocess it**"
      ]
    },
    {
      "cell_type": "code",
      "execution_count": null,
      "metadata": {
        "id": "mUJok_QlciP9",
        "outputId": "6d2c711a-4555-4d5f-d46f-dea3ba7a5574"
      },
      "outputs": [
        {
          "name": "stdout",
          "output_type": "stream",
          "text": [
            "x_train shape: (60000, 28, 28, 1)\n",
            "60000 train samples\n",
            "10000 test samples\n"
          ]
        }
      ],
      "source": [
        "# Model / data parameters\n",
        "num_classes = 10\n",
        "input_shape = (28, 28, 1)\n",
        "\n",
        "# the data, split between train and test sets\n",
        "(x_train, y_train), (x_test, y_test) = keras.datasets.fashion_mnist.load_data()\n",
        "\n",
        "# Scale images to the [0, 1] range\n",
        "x_train = x_train.astype(\"float32\") / 255\n",
        "x_test = x_test.astype(\"float32\") / 255\n",
        "# Make sure images have shape (28, 28, 1)\n",
        "x_train = np.expand_dims(x_train, -1)\n",
        "x_test = np.expand_dims(x_test, -1)\n",
        "print(\"x_train shape:\", x_train.shape)\n",
        "print(x_train.shape[0], \"train samples\")\n",
        "print(x_test.shape[0], \"test samples\")\n",
        "\n",
        "\n",
        "# convert class vectors to binary class matrices\n",
        "y_train = keras.utils.to_categorical(y_train, num_classes)\n",
        "y_test = keras.utils.to_categorical(y_test, num_classes)"
      ]
    },
    {
      "cell_type": "markdown",
      "metadata": {
        "id": "hbp-ZtvAciP-"
      },
      "source": [
        "**Define our ML model**"
      ]
    },
    {
      "cell_type": "code",
      "execution_count": null,
      "metadata": {
        "id": "MIi2T29XciP_",
        "outputId": "4d5c116e-0bb7-4b87-9e01-aa3088da265a"
      },
      "outputs": [
        {
          "name": "stdout",
          "output_type": "stream",
          "text": [
            "Model: \"sequential\"\n",
            "_________________________________________________________________\n",
            " Layer (type)                Output Shape              Param #   \n",
            "=================================================================\n",
            " conv2d (Conv2D)             (None, 26, 26, 32)        320       \n",
            "                                                                 \n",
            " max_pooling2d (MaxPooling2D  (None, 13, 13, 32)       0         \n",
            " )                                                               \n",
            "                                                                 \n",
            " conv2d_1 (Conv2D)           (None, 11, 11, 64)        18496     \n",
            "                                                                 \n",
            " max_pooling2d_1 (MaxPooling  (None, 5, 5, 64)         0         \n",
            " 2D)                                                             \n",
            "                                                                 \n",
            " flatten (Flatten)           (None, 1600)              0         \n",
            "                                                                 \n",
            " dropout (Dropout)           (None, 1600)              0         \n",
            "                                                                 \n",
            " dense (Dense)               (None, 10)                16010     \n",
            "                                                                 \n",
            "=================================================================\n",
            "Total params: 34,826\n",
            "Trainable params: 34,826\n",
            "Non-trainable params: 0\n",
            "_________________________________________________________________\n"
          ]
        }
      ],
      "source": [
        "model = keras.Sequential(\n",
        "    [\n",
        "        keras.Input(shape=input_shape),\n",
        "        layers.Conv2D(32, kernel_size=(3, 3), activation=\"relu\"),\n",
        "        layers.MaxPooling2D(pool_size=(2, 2)),\n",
        "        layers.Conv2D(64, kernel_size=(3, 3), activation=\"relu\"),\n",
        "        layers.MaxPooling2D(pool_size=(2, 2)),\n",
        "        layers.Flatten(),\n",
        "        layers.Dropout(0.5),\n",
        "        layers.Dense(num_classes, activation=\"softmax\"),\n",
        "    ]\n",
        ")\n",
        "\n",
        "model.summary()"
      ]
    },
    {
      "cell_type": "markdown",
      "metadata": {
        "id": "LQU2d27lciQA"
      },
      "source": [
        "**Train the model**"
      ]
    },
    {
      "cell_type": "code",
      "execution_count": null,
      "metadata": {
        "id": "tAba0dmqciQA",
        "outputId": "a705be52-2145-4712-dcaf-6d5e7bec823c"
      },
      "outputs": [
        {
          "name": "stdout",
          "output_type": "stream",
          "text": [
            "Epoch 1/15\n",
            "422/422 [==============================] - 28s 64ms/step - loss: 0.6940 - accuracy: 0.7484 - val_loss: 0.4445 - val_accuracy: 0.8425\n",
            "Epoch 2/15\n",
            "422/422 [==============================] - 27s 64ms/step - loss: 0.4525 - accuracy: 0.8380 - val_loss: 0.3844 - val_accuracy: 0.8627\n",
            "Epoch 3/15\n",
            "422/422 [==============================] - 27s 65ms/step - loss: 0.4015 - accuracy: 0.8582 - val_loss: 0.3534 - val_accuracy: 0.8718\n",
            "Epoch 4/15\n",
            "422/422 [==============================] - 28s 65ms/step - loss: 0.3746 - accuracy: 0.8648 - val_loss: 0.3326 - val_accuracy: 0.8820\n",
            "Epoch 5/15\n",
            "422/422 [==============================] - 28s 66ms/step - loss: 0.3511 - accuracy: 0.8734 - val_loss: 0.3188 - val_accuracy: 0.8842\n",
            "Epoch 6/15\n",
            "422/422 [==============================] - 29s 68ms/step - loss: 0.3353 - accuracy: 0.8802 - val_loss: 0.2974 - val_accuracy: 0.8925\n",
            "Epoch 7/15\n",
            "422/422 [==============================] - 29s 69ms/step - loss: 0.3245 - accuracy: 0.8830 - val_loss: 0.2918 - val_accuracy: 0.8922\n",
            "Epoch 8/15\n",
            "422/422 [==============================] - 33s 79ms/step - loss: 0.3093 - accuracy: 0.8886 - val_loss: 0.2794 - val_accuracy: 0.8967\n",
            "Epoch 9/15\n",
            "422/422 [==============================] - 39s 92ms/step - loss: 0.3007 - accuracy: 0.8904 - val_loss: 0.2858 - val_accuracy: 0.8978\n",
            "Epoch 10/15\n",
            "422/422 [==============================] - 45s 106ms/step - loss: 0.2947 - accuracy: 0.8926 - val_loss: 0.2716 - val_accuracy: 0.9005\n",
            "Epoch 11/15\n",
            "422/422 [==============================] - 43s 103ms/step - loss: 0.2886 - accuracy: 0.8961 - val_loss: 0.2673 - val_accuracy: 0.9013\n",
            "Epoch 12/15\n",
            "422/422 [==============================] - 42s 100ms/step - loss: 0.2810 - accuracy: 0.8985 - val_loss: 0.2611 - val_accuracy: 0.9028\n",
            "Epoch 13/15\n",
            "422/422 [==============================] - 42s 99ms/step - loss: 0.2775 - accuracy: 0.8996 - val_loss: 0.2578 - val_accuracy: 0.9042\n",
            "Epoch 14/15\n",
            "422/422 [==============================] - 41s 98ms/step - loss: 0.2737 - accuracy: 0.9002 - val_loss: 0.2561 - val_accuracy: 0.9082\n",
            "Epoch 15/15\n",
            "422/422 [==============================] - 42s 99ms/step - loss: 0.2686 - accuracy: 0.9008 - val_loss: 0.2520 - val_accuracy: 0.9092\n"
          ]
        },
        {
          "data": {
            "text/plain": [
              "<keras.callbacks.History at 0x20401312400>"
            ]
          },
          "execution_count": 5,
          "metadata": {},
          "output_type": "execute_result"
        }
      ],
      "source": [
        "batch_size = 128\n",
        "epochs = 15\n",
        "\n",
        "model.compile(loss=\"categorical_crossentropy\", optimizer=\"adam\", metrics=[\"accuracy\"])\n",
        "\n",
        "model.fit(x_train, y_train, batch_size=batch_size, epochs=epochs, validation_split=0.1)"
      ]
    },
    {
      "cell_type": "markdown",
      "metadata": {
        "id": "ucFvfud3ciQB"
      },
      "source": [
        "**Save the trained model**"
      ]
    },
    {
      "cell_type": "code",
      "execution_count": null,
      "metadata": {
        "id": "S6HKeVjbciQC"
      },
      "outputs": [],
      "source": [
        "model.save(\"fashion_mnist_model.h5\")"
      ]
    },
    {
      "cell_type": "markdown",
      "metadata": {
        "id": "hI35BR5mciQC"
      },
      "source": [
        "**Load the model**"
      ]
    },
    {
      "cell_type": "code",
      "execution_count": null,
      "metadata": {
        "id": "I6dbdTSxciQD"
      },
      "outputs": [],
      "source": [
        "model = keras.models.load_model(\"fashion_mnist_model.h5\")"
      ]
    },
    {
      "cell_type": "markdown",
      "metadata": {
        "id": "UIHv3ka7ciQD"
      },
      "source": [
        "# Second step : compromise our model\n",
        "Now that we have a working model, we will use Counterfit to implement our two attack scenarios and observe what the results are.\n",
        "In this part, we will use Counterfit to perform a misclassification attack on our ML model.\n",
        "\n",
        "To be more precise, we will implement two misclassification scenarios on a class 4 image. The objective is to generate an image for each attack scenario that looks very similar to the initial image but that will be misclassified by the model."
      ]
    },
    {
      "cell_type": "code",
      "execution_count": null,
      "metadata": {
        "id": "tUJ63hZ-ciQE",
        "outputId": "c451bd16-820b-44f1-d0dd-abb8185240c4"
      },
      "outputs": [
        {
          "data": {
            "image/png": "[encoded data removed]",
            "text/plain": [
              "<Figure size 432x288 with 1 Axes>"
            ]
          },
          "metadata": {
            "needs_background": "light"
          },
          "output_type": "display_data"
        }
      ],
      "source": [
        "img = mpimg.imread('results/original_fashion_mnist_index10.png')\n",
        "plt.imshow(img)\n",
        "plt.show()"
      ]
    },
    {
      "cell_type": "code",
      "execution_count": null,
      "metadata": {
        "id": "znsszsZBciQE",
        "outputId": "74635861-b1c8-4f84-eb3b-79a33f617038"
      },
      "outputs": [
        {
          "name": "stdout",
          "output_type": "stream",
          "text": [
            "Original label: 4\n"
          ]
        }
      ],
      "source": [
        "img_reshape = np.reshape(img, (1, 28, 28))\n",
        "print(\"Original label: {}\".format(np.argmax(model.predict(img_reshape))))"
      ]
    },
    {
      "cell_type": "markdown",
      "metadata": {
        "id": "szQnz7jCciQF"
      },
      "source": [
        "The image above belongs to class 4.\n",
        "\n",
        "Let's see how to run Counterfit on this image !"
      ]
    },
    {
      "cell_type": "markdown",
      "metadata": {
        "id": "ItwG6YinciQF"
      },
      "source": [
        "- **Install Counterfit**\n",
        "\n",
        "To install Counterfit, you can follow the instructions given in the *README.md* here : https://github.com/Azure/counterfit/"
      ]
    },
    {
      "cell_type": "markdown",
      "metadata": {
        "id": "gvC_KdfqciQF"
      },
      "source": [
        "Once Counterfit is installed, we can prepare the attack.\n",
        "\n",
        "- **Create the target directory**\n",
        "\n",
        "Go to *./counterfit/targets/* and create a directory, say *fashion_mnist*.\n",
        "\n",
        "```\n",
        "$ cd ./counterfit/targets\n",
        "$ mkdir fashion_mnist\n",
        "```\n",
        "\n",
        "- **Make the model reachable by Counterfit**\n",
        "\n",
        "In order to perform the attack, the model has to be reachable by Counterfit.\n",
        "To do so, we need to write a small script which we'll be named *fashion_mnist.py*.\n",
        "Please, make sure you save this file in the right directory (*./counterfit/targets/fashion_mnist*).\n",
        "\n",
        "\n",
        "Here's the content of *fashion_mnist.py*:\n",
        "\n",
        "```python\n",
        "import os\n",
        "import tensorflow as tf\n",
        "from tensorflow import keras as K\n",
        "import numpy as np\n",
        "\n",
        "from counterfit.core.targets import Target\n",
        "\n",
        "# for ART\n",
        "tf.compat.v1.disable_eager_execution()\n",
        "\n",
        "\n",
        "class FashionKeras(Target):\n",
        "    target_data_type = \"image\"\n",
        "    target_name = \"fashion_mnist\"\n",
        "    target_endpoint = \"fashion_mnist_model.h5\"\n",
        "    target_input_shape = (28, 28, 1)\n",
        "    target_output_classes = [\"0\", \"1\", \"2\", \"3\", \"4\", \"5\", \"6\", \"7\", \"8\", \"9\"]\n",
        "    target_classifier = \"keras\"\n",
        "    X = []\n",
        "\n",
        "    def load(self):\n",
        "        if not os.path.isfile(self.fullpath(self.target_endpoint)):\n",
        "            print(\"[!] Model file not found!\")\n",
        "        else:\n",
        "            self.model = K.models.load_model(\n",
        "                self.fullpath(self.target_endpoint))\n",
        "        (train_x, train_y), (test_x, test_y) = K.datasets.fashion_mnist.load_data()\n",
        "\n",
        "        self.X = test_x.astype(np.float32) / 255.  # float type [0,1]\n",
        "        self.X = self.X.reshape(-1, 28, 28, 1)\n",
        "\n",
        "    def predict(self, x):\n",
        "        x = (x.reshape(-1, 28, 28, 1) * 255).astype(int).astype(float)/255.  # accept as quantized image\n",
        "        pred_probs = self.model.predict(x)\n",
        "        return pred_probs\n",
        "```\n",
        "\n",
        "Now, we are ready to perform our adverserial attack !\n",
        "\n",
        "- **Open Counterfit**\n",
        "\n",
        "```\n",
        "$ python counterfit.py\n",
        "```\n",
        "\n",
        "- **List targets and select fashion_mnist**\n",
        "\n",
        "```\n",
        "$ list targets\n",
        "$ interact fashion_mnist\n",
        "```\n",
        "\n",
        "- **Load *art* and list possible attacks** \n",
        "\n",
        "```\n",
        "$ load art\n",
        "$ list attacks\n",
        "```\n",
        "\n",
        "- **Let's try first with a white-box attack : *CarliniLInfMethod* attack**\n",
        "\n",
        "```\n",
        "$ use CarliniLInfMethod\n",
        "$ set --eps 0.15 --learning_rate 0.1 --max_iter 10 --sample_index 18\n",
        "$ run\n",
        "```\n",
        "\n",
        "- **Compare with an black-box attack. We'll use *HopSkipJump* with default parameters**\n",
        "\n",
        "```\n",
        "$ use HopSkipJump\n",
        "$ set --sample_index 18 --max_eval 1250 --max_iter 5 --norm inf\n",
        "$ run\n",
        "```"
      ]
    },
    {
      "cell_type": "markdown",
      "metadata": {
        "id": "1pxTX-U3ciQG"
      },
      "source": [
        "# Results\n",
        "\n",
        "Our two images have been generated, let's see the results!"
      ]
    },
    {
      "cell_type": "markdown",
      "metadata": {
        "id": "B4mZP7ZuciQG"
      },
      "source": [
        "**Original image**"
      ]
    },
    {
      "cell_type": "code",
      "execution_count": null,
      "metadata": {
        "id": "yfEeq0QRciQH",
        "outputId": "48052d7b-0f19-4c08-ec60-78e20c14a86d"
      },
      "outputs": [
        {
          "data": {
            "image/png": "[encoded data removed]",
            "text/plain": [
              "<Figure size 432x288 with 1 Axes>"
            ]
          },
          "metadata": {
            "needs_background": "light"
          },
          "output_type": "display_data"
        }
      ],
      "source": [
        "original_img = mpimg.imread('results/original_fashion_mnist_index10.png')\n",
        "plt.imshow(original_img)\n",
        "plt.show()"
      ]
    },
    {
      "cell_type": "code",
      "execution_count": null,
      "metadata": {
        "id": "E4uHbVx7ciQH",
        "outputId": "90ecd9b8-f82a-4eea-db37-28ea8cfa1f67"
      },
      "outputs": [
        {
          "name": "stdout",
          "output_type": "stream",
          "text": [
            "Original label: 4\n"
          ]
        }
      ],
      "source": [
        "original_img_reshape = np.reshape(original_img, (1, 28, 28))\n",
        "print(\"Original label: {}\".format(np.argmax(model.predict(original_img_reshape))))"
      ]
    },
    {
      "cell_type": "markdown",
      "metadata": {
        "id": "zq9BIOfTciQI"
      },
      "source": [
        "**White-box adverserial attack : CarliniLInf Method**"
      ]
    },
    {
      "cell_type": "code",
      "execution_count": null,
      "metadata": {
        "id": "O4Em_j9-ciQI",
        "outputId": "261dbb02-6843-4b50-87f5-327dbf7e0ba2"
      },
      "outputs": [
        {
          "data": {
            "image/png": "[encoded data removed]",
            "text/plain": [
              "<Figure size 432x288 with 1 Axes>"
            ]
          },
          "metadata": {
            "needs_background": "light"
          },
          "output_type": "display_data"
        }
      ],
      "source": [
        "carlinilinf_img = mpimg.imread('results/carlinilinf_fashion_mnist_index10_new6.png')\n",
        "plt.imshow(carlinilinf_img)\n",
        "plt.show()"
      ]
    },
    {
      "cell_type": "code",
      "execution_count": null,
      "metadata": {
        "id": "ZKVpmRxRciQI",
        "outputId": "64ca1804-a7da-46ae-874a-143e3dc47acf"
      },
      "outputs": [
        {
          "name": "stdout",
          "output_type": "stream",
          "text": [
            "New classification after CarliniLInf method attack: 6\n"
          ]
        }
      ],
      "source": [
        "carlinilinf_img_reshape = np.reshape(carlinilinf_img, (1, 28, 28))\n",
        "print(\"New classification after CarliniLInf method attack: {}\".format(np.argmax(model.predict(carlinilinf_img_reshape))))"
      ]
    },
    {
      "cell_type": "markdown",
      "metadata": {
        "id": "Zo41EZU2ciQJ"
      },
      "source": [
        "It is noticeable that the resulting image of the white-box attack is really similar to the original image. It is almost indistinguishable from the original with the naked eye. \n",
        "\n",
        "Out of curiosity, we can highlight the pixels that have been modified by displaying the difference between the modified image and the original image."
      ]
    },
    {
      "cell_type": "code",
      "execution_count": null,
      "metadata": {
        "id": "dr7FSfy0ciQJ",
        "outputId": "a6046653-77b8-4dcd-a22b-c55fdaff14ba"
      },
      "outputs": [
        {
          "data": {
            "image/png": "[encoded data removed]",
            "text/plain": [
              "<Figure size 432x288 with 1 Axes>"
            ]
          },
          "metadata": {
            "needs_background": "light"
          },
          "output_type": "display_data"
        }
      ],
      "source": [
        "plt.imshow(carlinilinf_img - original_img)\n",
        "plt.show()"
      ]
    },
    {
      "cell_type": "markdown",
      "metadata": {
        "id": "Pt5KYHvfciQJ"
      },
      "source": [
        "**Black-box adverserial attack: HopSkipJump Method**"
      ]
    },
    {
      "cell_type": "code",
      "execution_count": null,
      "metadata": {
        "id": "vUdou-dqciQK",
        "outputId": "066fba1e-e4b9-47d6-b1db-515e95cfc42e"
      },
      "outputs": [
        {
          "data": {
            "image/png": "[encoded data removed]",
            "text/plain": [
              "<Figure size 432x288 with 1 Axes>"
            ]
          },
          "metadata": {
            "needs_background": "light"
          },
          "output_type": "display_data"
        }
      ],
      "source": [
        "hopskipjump_img = mpimg.imread('results/hopskipjump_fashion_mnist_index10_new6.png')\n",
        "plt.imshow(hopskipjump_img)\n",
        "plt.show()"
      ]
    },
    {
      "cell_type": "code",
      "execution_count": null,
      "metadata": {
        "id": "7WoW-mgWciQK",
        "outputId": "84af3004-1e1b-4d1b-801c-ec943aa77e27"
      },
      "outputs": [
        {
          "name": "stdout",
          "output_type": "stream",
          "text": [
            "New classification after HopSkipJump method attack: 6\n"
          ]
        }
      ],
      "source": [
        "hopskipjump_img_reshape = np.reshape(hopskipjump_img, (1, 28, 28))\n",
        "print(\"New classification after HopSkipJump method attack: {}\".format(np.argmax(model.predict(hopskipjump_img_reshape))))"
      ]
    },
    {
      "cell_type": "markdown",
      "metadata": {
        "id": "lkyyRyAxciQK"
      },
      "source": [
        "The resulting image of the black-box attack looks more noisy. However, the overall appearance of the image and what is represented in it is still reminiscent of the original image.\n",
        "\n",
        "Again, we can highlight the pixels that have been modified by displaying the difference between the modified image and the original image."
      ]
    },
    {
      "cell_type": "code",
      "execution_count": null,
      "metadata": {
        "id": "8hSiyz1HciQL",
        "outputId": "fe24bbe1-32d3-4fb3-bdb1-2b38c0cc079b"
      },
      "outputs": [
        {
          "data": {
            "image/png": "[encoded data removed]",
            "text/plain": [
              "<Figure size 432x288 with 1 Axes>"
            ]
          },
          "metadata": {
            "needs_background": "light"
          },
          "output_type": "display_data"
        }
      ],
      "source": [
        "plt.imshow(hopskipjump_img - original_img)\n",
        "plt.show()"
      ]
    },
    {
      "cell_type": "markdown",
      "metadata": {
        "id": "NeaZl5-JciQL"
      },
      "source": [
        "# Conclusion\n",
        "\n",
        "Through this notebook, we shown how easy it can be to perform adversarial attacks on models using Counterfit, whether it is a white box or black box attack.\n",
        "\n",
        "Although this notebook is not a formal proof, we can still hypothesize that white-box attacks can achieve better results than black-box attacks. And this can be explained quite simply by the fact that in black-box attacks we have much less information to create our custom input than in white-box attacks.\n",
        "\n",
        "To protect the model from this type of attack, it is possible to follow the [Microsoft Security Development Lifecycle (SDL)](https://www.microsoft.com/en-us/securityengineering/sdl/) or at least some of the [practices](https://www.microsoft.com/en-us/securityengineering/sdl/practices) that give interesting leads.\n",
        "\n",
        "[Practice #4](https://www.microsoft.com/en-us/securityengineering/sdl/threatmodeling) consists in performing a Threat Modeling. This allows us to make a structured analysis of the potential risks on our system.\n",
        "\n"
      ]
    },
    {
      "cell_type": "markdown",
      "metadata": {
        "id": "Twj951yHciQM"
      },
      "source": [
        "![Threat Modeling](threats.png)"
      ]
    },
    {
      "cell_type": "markdown",
      "metadata": {
        "id": "LrwLX7XzciQM"
      },
      "source": [
        "The image above shows the result of Threat Modeling on a very simplified version of our system where we would deploy our model in the cloud as an API and it would be callable by IoT Devices like connected cameras.\n",
        "\n",
        "We see that there are several important information points to take into account to ensure an minimum of security. In our problem, if we want to avoid adverserial attacks, we can focus our attention on these lines :\n",
        "* An adversary may inject malicious inputs into an API and affect downstream processes\n",
        "* If proper authentication is not in place, an adversary can spoof a source process or external entity and gain unauthorized access to the Web Application\n",
        "\n",
        "The Modeling Threat tool shows us that we might encouter security issue if we don't control user inputs and if we run the service without authentication. With that said, it appears to be a good idea to restrict the access to the model itself by authenticating each user and by setting a limit in the number of request made to the model in order to limit the possibility of performing adverserial attacks.\n"
      ]
    }
  ],
  "metadata": {
    "interpreter": {
      "hash": "96df165d4e490eee9dfaf336b0de0736c8ea03c524933bdf947252edad1fddbf"
    },
    "kernelspec": {
      "display_name": "Python 3.8.8 ('venv': venv)",
      "language": "python",
      "name": "python3"
    },
    "language_info": {
      "codemirror_mode": {
        "name": "ipython",
        "version": 3
      },
      "file_extension": ".py",
      "mimetype": "text/x-python",
      "name": "python",
      "nbconvert_exporter": "python",
      "pygments_lexer": "ipython3",
      "version": "3.8.8"
    },
    "orig_nbformat": 4,
    "colab": {
      "name": "adverserial_attacks_counterfit.ipynb",
      "provenance": [],
      "collapsed_sections": []
    }
  },
  "nbformat": 4,
  "nbformat_minor": 0
}